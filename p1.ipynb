{
 "cells": [
  {
   "cell_type": "markdown",
   "metadata": {},
   "source": [
    "1. abs() Mengembalikan nilai absolut untuk setiap elemen numerik"
   ]
  },
  {
   "cell_type": "code",
   "execution_count": 3,
   "metadata": {},
   "outputs": [
    {
     "name": "stdout",
     "output_type": "stream",
     "text": [
      "Data awal : \n",
      "    A   B\n",
      "0 -10   5\n",
      "1  20 -15\n",
      "2 -30  25\n",
      "3  40 -35\n",
      "\n",
      "DataFrame setelah abs():\n",
      "    A   B\n",
      "0  10   5\n",
      "1  20  15\n",
      "2  30  25\n",
      "3  40  35\n"
     ]
    }
   ],
   "source": [
    "import pandas as pd\n",
    "\n",
    "#membuat DataFrame dengan dua kolom A dan B, masing-masing berisi angka negatif dan positif\n",
    "data = {'A' : [-10, 20, -30, 40], 'B': [5, -15, 25, -35]}\n",
    "df = pd.DataFrame(data)\n",
    "\n",
    "\n",
    "print(\"Data awal : \")\n",
    "print(df)\n",
    "\n",
    "#mengubah setiap angka menjadi nilai absolutnya\n",
    "df_abs = df.abs()\n",
    "\n",
    "print(\"\\nDataFrame setelah abs():\")\n",
    "print(df_abs)"
   ]
  },
  {
   "cell_type": "markdown",
   "metadata": {},
   "source": [
    "2. add() Mengembalikan hasil penjumlahan data series pertama\n",
    "dengan data series kedua\n",
    "\n",
    "3. append() Menggabungkan data series pertama dengan data series ke\n",
    "dua\n",
    "\n"
   ]
  },
  {
   "cell_type": "code",
   "execution_count": 4,
   "metadata": {},
   "outputs": [
    {
     "name": "stdout",
     "output_type": "stream",
     "text": [
      "Series Pertama :\n",
      "a    10\n",
      "b    20\n",
      "c    30\n",
      "d    40\n",
      "dtype: int64\n",
      "Series Kedua :\n",
      "a    1\n",
      "b    2\n",
      "c    3\n",
      "d    4\n",
      "dtype: int64\n",
      "Jawaban No 2.\n",
      "\n",
      " Hasil Penjumlahan :\n",
      "a    11\n",
      "b    22\n",
      "c    33\n",
      "d    44\n",
      "dtype: int64\n",
      "Jawaban No 3.\n",
      "\n",
      " Hasil Penggabungan :\n",
      "a    10\n",
      "b    20\n",
      "c    30\n",
      "d    40\n",
      "a     1\n",
      "b     2\n",
      "c     3\n",
      "d     4\n",
      "dtype: int64\n"
     ]
    },
    {
     "name": "stderr",
     "output_type": "stream",
     "text": [
      "C:\\Users\\Silvy Nur Azkia\\AppData\\Local\\Temp\\ipykernel_2744\\2119025018.py:11: FutureWarning: The series.append method is deprecated and will be removed from pandas in a future version. Use pandas.concat instead.\n",
      "  gabung = s1.append(s2)\n"
     ]
    }
   ],
   "source": [
    "import pandas as pd\n",
    "\n",
    "#membuat dua series dengan inindexedx berbeda\n",
    "s1 = pd.Series([10, 20, 30, 40], ['a', 'b', 'c', 'd'])\n",
    "s2 = pd.Series([1, 2, 3, 4], ['a', 'b', 'c', 'd'])\n",
    "\n",
    "#membuat variabel hasil yang berisi untuk menjumlahkan s1 dengan s2\n",
    "jumlah = s1.add(s2)\n",
    "\n",
    "#menggabungkan kedua series\n",
    "gabung = s1.append(s2)\n",
    "\n",
    "print(\"Series Pertama :\")\n",
    "print(s1)\n",
    "\n",
    "print(\"Series Kedua :\")\n",
    "print(s2)\n",
    "\n",
    "print(\"Jawaban No 2.\")\n",
    "print(\"\\n Hasil Penjumlahan :\")\n",
    "print(jumlah)\n",
    "\n",
    "print(\"Jawaban No 3.\")\n",
    "print(\"\\n Hasil Penggabungan :\")\n",
    "print(gabung)\n",
    "\n"
   ]
  },
  {
   "cell_type": "markdown",
   "metadata": {},
   "source": [
    "4. argmax() Mengembalikan index data series dengan nilai maksimum\n",
    "pertama\n",
    "\n",
    "5. argmin() Mengembalikan index data series dengan nilai minimum\n",
    "pertama\n",
    "\n",
    "6. argsort() Mengembalikan index data series yang nilai datanya telah\n",
    "diurutkan dari terkecil ke terbesar\n"
   ]
  },
  {
   "cell_type": "code",
   "execution_count": null,
   "metadata": {},
   "outputs": [
    {
     "name": "stdout",
     "output_type": "stream",
     "text": [
      "Jabawan No.4\n",
      "Series:\n",
      " a    10\n",
      "b    20\n",
      "c     5\n",
      "d    30\n",
      "e    25\n",
      "dtype: int64\n",
      "Indeks nilai maksimum pertama: d\n",
      "\n",
      "Jabawan No.5\n",
      "Series:\n",
      " a    10\n",
      "b    20\n",
      "c     5\n",
      "d    30\n",
      "e    25\n",
      "dtype: int64\n",
      "Indeks nilai minimum pertama: c\n",
      "\n",
      "Jabawan No.6\n",
      "Series Awal:\n",
      " a    10\n",
      "b    20\n",
      "c     5\n",
      "d    30\n",
      "e    25\n",
      "dtype: int64\n",
      "Indeks nilai berurutan dari yang terkecil: a    2\n",
      "b    0\n",
      "c    1\n",
      "d    4\n",
      "e    3\n",
      "dtype: int64\n"
     ]
    }
   ],
   "source": [
    "import pandas as pd\n",
    "\n",
    "s = pd.Series([10, 20, 5, 30, 25], index=['a', 'b', 'c', 'd', 'e'])\n",
    "\n",
    "indeks_max = s.idxmax() #mengembalikan index dengan nilai maksimum NO. 4\n",
    "index_min = s.idxmin()  #mengembalikan index dengan nilai minimum NO. 5\n",
    "\n",
    "index_urut = s.argsort() #mengembalikan index dengan urut mulai dari yang terkecil ke terbesar NO.6 \n",
    "\n",
    "print(\"Jabawan No.4\")\n",
    "print(\"Series:\\n\", s)\n",
    "print(\"Indeks nilai maksimum pertama:\", indeks_max)\n",
    "\n",
    "print(\"\\nJabawan No.5\")\n",
    "print(\"Series:\\n\",s)\n",
    "print(\"Indeks nilai minimum pertama:\", index_min)\n",
    "\n",
    "print(\"\\nJabawan No.6\")\n",
    "print(\"Series Awal:\\n\", s)\n",
    "print(\"Indeks nilai berurutan dari yang terkecil:\", index_urut)\n"
   ]
  },
  {
   "cell_type": "markdown",
   "metadata": {},
   "source": [
    "7. copy() Melakukan copy data series"
   ]
  },
  {
   "cell_type": "code",
   "execution_count": 7,
   "metadata": {},
   "outputs": [
    {
     "name": "stdout",
     "output_type": "stream",
     "text": [
      "Series Asli:\n",
      " a    10\n",
      "b    20\n",
      "c    30\n",
      "d    40\n",
      "dtype: int64\n",
      "\n",
      "Series Copy (Setelah Diubah):\n",
      " a     10\n",
      "b    100\n",
      "c     30\n",
      "d     40\n",
      "dtype: int64\n"
     ]
    }
   ],
   "source": [
    "import pandas as pd\n",
    "\n",
    "s1 = pd.Series([10, 20, 30, 40], index=['a', 'b', 'c', 'd'])\n",
    "\n",
    "#membuat salinan Series\n",
    "s2 = s1.copy()\n",
    "\n",
    "#mengubah nilai di Series salinan\n",
    "s2['b'] = 100\n",
    "\n",
    "print(\"Series Asli:\\n\", s1)\n",
    "print(\"\\nSeries Copy (Setelah Diubah):\\n\", s2)\n"
   ]
  },
  {
   "cell_type": "markdown",
   "metadata": {},
   "source": [
    "8. count() Mengembalikan jumlah data series yang tidak memiliki null\n"
   ]
  },
  {
   "cell_type": "code",
   "execution_count": 8,
   "metadata": {},
   "outputs": [
    {
     "name": "stdout",
     "output_type": "stream",
     "text": [
      "Series:\n",
      "0    10.0\n",
      "1    20.0\n",
      "2     NaN\n",
      "3    30.0\n",
      "4     NaN\n",
      "5    40.0\n",
      "dtype: float64\n",
      "\n",
      "Jumlah elemen yang tidak NaN: 4\n",
      "Total elemen dalam Series: 6\n"
     ]
    }
   ],
   "source": [
    "import pandas as pd\n",
    "import numpy as np\n",
    "\n",
    "#membuat Series dengan beberapa nilai NaN\n",
    "s = pd.Series([10, 20, np.nan, 30, np.nan, 40])\n",
    "\n",
    "#menghitung jumlah elemen yang tidak NaN\n",
    "tidak_nan = s.count()\n",
    "\n",
    "#menghitung total elemen termasuk NaN\n",
    "total_elemen = s.size\n",
    "\n",
    "print(\"Series:\")\n",
    "print(s)\n",
    "\n",
    "print(\"\\nJumlah elemen yang tidak NaN:\", tidak_nan)\n",
    "print(\"Total elemen dalam Series:\", total_elemen)\n"
   ]
  },
  {
   "cell_type": "markdown",
   "metadata": {},
   "source": [
    "9. cov() Menghitung nilai covariance dari dua data series\n",
    "\n",
    "= Covariance menunjukkan hubungan linier antara dua variabel"
   ]
  },
  {
   "cell_type": "code",
   "execution_count": 9,
   "metadata": {},
   "outputs": [
    {
     "name": "stdout",
     "output_type": "stream",
     "text": [
      "Series 1:\n",
      "0    11\n",
      "1    21\n",
      "2    31\n",
      "3    41\n",
      "4    51\n",
      "dtype: int64\n",
      "\n",
      "Series 2:\n",
      "0     5\n",
      "1    15\n",
      "2    25\n",
      "3    35\n",
      "4    45\n",
      "dtype: int64\n",
      "\n",
      "Covariance antara Series 1 dan Series 2: 250.0\n"
     ]
    }
   ],
   "source": [
    "import pandas as pd\n",
    "\n",
    "s1 = pd.Series([11, 21, 31, 41, 51])\n",
    "s2 = pd.Series([5, 15, 25, 35, 45])\n",
    "\n",
    "#menghitung covariance antara s1 dan s2\n",
    "covariance = s1.cov(s2)\n",
    "\n",
    "print(\"Series 1:\")\n",
    "print(s1)\n",
    "\n",
    "print(\"\\nSeries 2:\")\n",
    "print(s2)\n",
    "\n",
    "print(\"\\nCovariance antara Series 1 dan Series 2:\", covariance)\n"
   ]
  },
  {
   "cell_type": "markdown",
   "metadata": {},
   "source": [
    "\n",
    "9. cov() Menghitung nilai covariance dari dua data series\n",
    "10. div() Mengembalikan hasil bagi data series pertama dengan data\n",
    "series kedua\n",
    "11. dot() Mengembalikan hasil perkalian titik antara dua data series\n"
   ]
  },
  {
   "cell_type": "code",
   "execution_count": 14,
   "metadata": {},
   "outputs": [
    {
     "name": "stdout",
     "output_type": "stream",
     "text": [
      "Series 1:\n",
      "0    11\n",
      "1    21\n",
      "2    31\n",
      "3    41\n",
      "4    51\n",
      "dtype: int64\n",
      "\n",
      "Series 2:\n",
      "0     5\n",
      "1    15\n",
      "2    25\n",
      "3    35\n",
      "4    45\n",
      "dtype: int64\n",
      "Covariance antara Series 1 dan Series 2: 250.0\n",
      "\n",
      "Hasil Pembagian:\n",
      "0    2.200000\n",
      "1    1.400000\n",
      "2    1.240000\n",
      "3    1.171429\n",
      "4    1.133333\n",
      "dtype: float64\n",
      "\n",
      "Hasil Perkalian Titik antara Dua Data Series: 4875\n"
     ]
    }
   ],
   "source": [
    "import pandas as pd\n",
    "\n",
    "s1 = pd.Series([11, 21, 31, 41, 51])\n",
    "s2 = pd.Series([5, 15, 25, 35, 45])\n",
    "\n",
    "#menghitung covariance antara s1 dan s2\n",
    "covariance = s1.cov(s2) #No. 9\n",
    "\n",
    "#membagi setiap elemen s1 dengan s2\n",
    "bagi = s1.div(s2) #NO. 10\n",
    "\n",
    "#perkalian titik antara dua data series\n",
    "dot_product = s1.dot(s2)\n",
    "\n",
    "#N0. 9\n",
    "print(\"Series 1:\")\n",
    "print(s1)\n",
    "\n",
    "print(\"\\nSeries 2:\")\n",
    "print(s2)\n",
    "\n",
    "print(\"Covariance antara Series 1 dan Series 2:\", covariance)  #No. 9\n",
    "\n",
    "#No. 10\n",
    "print(\"\\nHasil Pembagian:\")\n",
    "print(bagi)\n",
    "\n",
    "#No. 11\n",
    "print(\"\\nHasil Perkalian Titik antara Dua Data Series:\", dot_product)"
   ]
  },
  {
   "cell_type": "markdown",
   "metadata": {},
   "source": [
    "12. drop(labels =\n",
    "[‘index’]) Menghapus elemen data series pada label ‘index’ tertentu\n",
    "13. drop_duplicates() Menghapus setiap elemen data series yang ganda atau ganda"
   ]
  },
  {
   "cell_type": "code",
   "execution_count": null,
   "metadata": {},
   "outputs": [
    {
     "name": "stdout",
     "output_type": "stream",
     "text": [
      "Series Asli:\n",
      "a    11\n",
      "b    21\n",
      "c    31\n",
      "d    41\n",
      "e    51\n",
      "dtype: int64\n",
      "\n",
      "Series setelah menghapus index 'b':\n",
      "a    11\n",
      "c    31\n",
      "d    41\n",
      "e    51\n",
      "dtype: int64\n",
      "\n",
      "Series dengan Duplikasi:\n",
      "0    10\n",
      "1    20\n",
      "2    30\n",
      "3    20\n",
      "4    40\n",
      "5    10\n",
      "6    50\n",
      "7    30\n",
      "dtype: int64\n",
      "\n",
      "Series setelah Menghapus Duplikasi:\n",
      "0    10\n",
      "1    20\n",
      "2    30\n",
      "4    40\n",
      "6    50\n",
      "dtype: int64\n"
     ]
    }
   ],
   "source": [
    "import pandas as pd\n",
    "\n",
    "s1 = pd.Series([11, 21, 31, 41, 51], index=['a', 'b', 'c', 'd', 'e'])\n",
    "s2 = pd.Series([10, 20, 30, 20, 40, 10, 50, 30])\n",
    "\n",
    "#menghapus elemen data series pada index b \n",
    "s_drop = s1.drop(labels=['b']) #No. 12\n",
    "\n",
    "#menghapus setiap elemen data series yang duplicate\n",
    "s_dup = s2.drop_duplicates() #No. 13\n",
    "\n",
    "#No. 12\n",
    "print(\"Series Asli:\")\n",
    "print(s1)\n",
    "\n",
    "print(\"\\nSeries setelah menghapus index 'b':\")\n",
    "print(s_drop)\n",
    "\n",
    "\n",
    "#No. 13\n",
    "print(\"\\nSeries dengan Duplikasi:\")\n",
    "print(s2)\n",
    "\n",
    "print(\"\\nSeries setelah Menghapus Duplikasi:\")\n",
    "print(s_dup)"
   ]
  },
  {
   "cell_type": "markdown",
   "metadata": {},
   "source": [
    "14. dropna() Mengembalikan data series yang telah dihapus atau dibuang\n",
    "data yang mengandung missing value\n"
   ]
  },
  {
   "cell_type": "code",
   "execution_count": 11,
   "metadata": {},
   "outputs": [
    {
     "name": "stdout",
     "output_type": "stream",
     "text": [
      "\n",
      "Jawaban No. 14\n",
      "Series Asli:\n",
      "0    10.0\n",
      "1     NaN\n",
      "2    30.0\n",
      "3    40.0\n",
      "4     NaN\n",
      "5    50.0\n",
      "dtype: float64\n",
      "\n",
      "Series setelah Menghapus Missing Value:\n",
      "0    10.0\n",
      "2    30.0\n",
      "3    40.0\n",
      "5    50.0\n",
      "dtype: float64\n"
     ]
    }
   ],
   "source": [
    "import pandas as pd\n",
    "import numpy as np\n",
    "\n",
    "#membuat Series dengan nilai NaN (missing value)\n",
    "s_na = pd.Series([10, np.nan, 30, 40, np.nan, 50])\n",
    "\n",
    "#menghapus elemen yang mengandung NaN\n",
    "s_clean = s_na.dropna() #No. 14\n",
    "\n",
    "#No. 14\n",
    "print(\"\\nJawaban No. 14\")\n",
    "print(\"Series Asli:\")\n",
    "print(s_na)\n",
    "\n",
    "print(\"\\nSeries setelah Menghapus Missing Value:\")\n",
    "print(s_clean)\n",
    "\n"
   ]
  },
  {
   "cell_type": "markdown",
   "metadata": {},
   "source": [
    "15. duplicated() Menentukan apakah nilai elemen suatu data series ada yang\n",
    "nilainya sama yang dikembalikan dalam nilai boolean"
   ]
  },
  {
   "cell_type": "code",
   "execution_count": 7,
   "metadata": {},
   "outputs": [
    {
     "name": "stdout",
     "output_type": "stream",
     "text": [
      "\n",
      "Jawaban No. 15\n",
      "Series Asli:\n",
      "0    10\n",
      "1    20\n",
      "2    30\n",
      "3    20\n",
      "4    40\n",
      "5    10\n",
      "6    50\n",
      "7    30\n",
      "dtype: int64\n",
      "\n",
      "Boolean untuk Menunjukkan Elemen Duplikat:\n",
      "0    False\n",
      "1    False\n",
      "2    False\n",
      "3     True\n",
      "4    False\n",
      "5     True\n",
      "6    False\n",
      "7     True\n",
      "dtype: bool\n"
     ]
    }
   ],
   "source": [
    "import pandas as pd\n",
    "import numpy as np\n",
    "\n",
    "#membuat Series dengan nilai duplikat\n",
    "s_dup = pd.Series([10, 20, 30, 20, 40, 10, 50, 30])\n",
    "\n",
    "#mencari elemen yang duplikat\n",
    "s_check_dup = s_dup.duplicated() #No. 15\n",
    "\n",
    "#No. 15\n",
    "print(\"\\nJawaban No. 15\")\n",
    "print(\"Series Asli:\")\n",
    "print(s_dup)\n",
    "\n",
    "print(\"\\nBoolean untuk Menunjukkan Elemen Duplikat:\")\n",
    "print(s_check_dup)\n",
    "\n"
   ]
  },
  {
   "cell_type": "markdown",
   "metadata": {},
   "source": [
    "16. idmax() Mengembalikan index data series yang mengandung nilai\n",
    "maksimum pertama\n",
    "17. idmin() Mengembalikan index data series yang mengandung nilai\n",
    "minimum pertama"
   ]
  },
  {
   "cell_type": "code",
   "execution_count": 13,
   "metadata": {},
   "outputs": [
    {
     "name": "stdout",
     "output_type": "stream",
     "text": [
      "Series Asli:\n",
      "a    10\n",
      "b    25\n",
      "c     8\n",
      "d    50\n",
      "e    30\n",
      "dtype: int64\n",
      "\n",
      "Jawaban No. 16\n",
      "Index dari Nilai Maksimum Pertama: d\n",
      "\n",
      "Jawaban No. 17\n",
      "Index dari Nilai Minimum Pertama: c\n"
     ]
    }
   ],
   "source": [
    "import pandas as pd\n",
    "\n",
    "# Membuat Series\n",
    "s = pd.Series([10, 25, 8, 50, 30], index=['a', 'b', 'c', 'd', 'e'])\n",
    "\n",
    "# Mendapatkan index dari nilai maksimum pertama\n",
    "index_maks = s.idxmax() #N0. 16\n",
    "\n",
    "#mendapatkan index dari nilai minimum pertama\n",
    "index_min = s.idxmin() #No. 17\n",
    "\n",
    "print(\"Series Asli:\")\n",
    "print(s)\n",
    "\n",
    "print(\"\\nJawaban No. 16\")\n",
    "print(\"Index dari Nilai Maksimum Pertama:\", index_maks)\n",
    "\n",
    "print(\"\\nJawaban No. 17\")\n",
    "print(\"Index dari Nilai Minimum Pertama:\", index_min)\n"
   ]
  },
  {
   "cell_type": "markdown",
   "metadata": {},
   "source": [
    "18. isin([val]) Mengembalikan nilai Boolean kesamaan nilai setiap data\n",
    "series"
   ]
  },
  {
   "cell_type": "code",
   "execution_count": 17,
   "metadata": {},
   "outputs": [
    {
     "name": "stdout",
     "output_type": "stream",
     "text": [
      "Series Asli:\n",
      "a    10\n",
      "b    25\n",
      "c     8\n",
      "d    50\n",
      "e    30\n",
      "dtype: int64\n",
      "\n",
      "Jawaban No. 18\n",
      "Cek apakah nilainya ada dalam [10, 50, 100]:\n",
      "a     True\n",
      "b    False\n",
      "c    False\n",
      "d     True\n",
      "e    False\n",
      "dtype: bool\n"
     ]
    }
   ],
   "source": [
    "import pandas as pd\n",
    "\n",
    "s = pd.Series([10, 25, 8, 50, 30], index=['a', 'b', 'c', 'd', 'e'])\n",
    "\n",
    "#mengecek apakah nilai dalam Series ada di dalam list [10, 50, 100]\n",
    "hasil = s.isin([10, 50, 100])\n",
    "\n",
    "print(\"Series Asli:\")\n",
    "print(s)\n",
    "\n",
    "print(\"\\nJawaban No. 18\")\n",
    "print(\"Cek apakah nilainya ada dalam [10, 50, 100]:\")\n",
    "print(hasil)\n"
   ]
  },
  {
   "cell_type": "markdown",
   "metadata": {},
   "source": [
    "19. isna()\n",
    "Menentukan atau menguji apakah nilai suatu data series\n",
    "mengandung suatu nilai missing value. Jika nilai missing\n",
    "value akan mengembalikan nilai True."
   ]
  },
  {
   "cell_type": "code",
   "execution_count": 19,
   "metadata": {},
   "outputs": [
    {
     "name": "stdout",
     "output_type": "stream",
     "text": [
      "Series Asli:\n",
      "a    100.0\n",
      "b      NaN\n",
      "c    250.0\n",
      "d      NaN\n",
      "e    500.0\n",
      "dtype: float64\n",
      "\n",
      "Cek apakah terdapat missing value:\n",
      "a    False\n",
      "b     True\n",
      "c    False\n",
      "d     True\n",
      "e    False\n",
      "dtype: bool\n"
     ]
    }
   ],
   "source": [
    "import pandas as pd\n",
    "import numpy as np\n",
    "\n",
    "#membuat Series dengan beberapa missing value (NaN)\n",
    "s = pd.Series([100, np.nan, 250, None, 500], index=['a', 'b', 'c', 'd', 'e'])\n",
    "\n",
    "#mengecek apakah ada missing value\n",
    "hasil = s.isna()\n",
    "\n",
    "print(\"Series Asli:\")\n",
    "print(s)\n",
    "\n",
    "print(\"\\nCek apakah terdapat missing value:\")\n",
    "print(hasil)\n"
   ]
  },
  {
   "cell_type": "markdown",
   "metadata": {},
   "source": [
    "20. isnull() Menentukan atau menguji apakah nilainya suatu nilai\n",
    "missing value"
   ]
  },
  {
   "cell_type": "code",
   "execution_count": 3,
   "metadata": {},
   "outputs": [
    {
     "name": "stdout",
     "output_type": "stream",
     "text": [
      "\n",
      "Jawaban No. 20\n",
      "Series Asli:\n",
      "a    70.0\n",
      "b     NaN\n",
      "c    55.0\n",
      "d     NaN\n",
      "e    90.0\n",
      "dtype: float64\n",
      "\n",
      "Cek apakah terdapat missing value:\n",
      "a    False\n",
      "b     True\n",
      "c    False\n",
      "d     True\n",
      "e    False\n",
      "dtype: bool\n"
     ]
    }
   ],
   "source": [
    "import pandas as pd\n",
    "import numpy as np\n",
    "\n",
    "#membuat Series dengan beberapa missing value (NaN)\n",
    "s = pd.Series([70, np.nan, 55, None, 90], index=['a', 'b', 'c', 'd', 'e'])\n",
    "\n",
    "#mengecek apakah ada missing value\n",
    "hasil = s.isnull()\n",
    "\n",
    "print(\"\\nJawaban No. 20\")\n",
    "print(\"Series Asli:\")\n",
    "print(s)\n",
    "\n",
    "print(\"\\nCek apakah terdapat missing value:\")\n",
    "print(hasil)\n"
   ]
  },
  {
   "cell_type": "markdown",
   "metadata": {},
   "source": [
    "21. max() Mengembalikan nilai maksimum dari data series\n",
    "22. mean() Menghitung nilai rata-rata data series dan dikembalikan\n",
    "dalam tipe data float\n",
    "23. median() Mengembalikan nilai tengah data series setelah datanya\n",
    "diurutkan mulai terkecil ke terbesar\n",
    "24. min() Mengembalikan nilai minimum dari data series"
   ]
  },
  {
   "cell_type": "code",
   "execution_count": 7,
   "metadata": {},
   "outputs": [
    {
     "name": "stdout",
     "output_type": "stream",
     "text": [
      "Series:\n",
      "0    10\n",
      "1    25\n",
      "2    50\n",
      "3    40\n",
      "4     5\n",
      "dtype: int64\n",
      "\n",
      "Jawaban No.21\n",
      "Nilai Maksimum: 50\n",
      "\n",
      "Jawaban No.22\n",
      "Nilai Rata-Rata: 26.0\n",
      "\n",
      "Jawaban No.23\n",
      "Nilai Tengah Berdasarkan Nilai Terkecil: 25.0\n",
      "\n",
      "Jawaban No.24\n",
      "Nilai Minimum: 5\n"
     ]
    }
   ],
   "source": [
    "import pandas as pd\n",
    "\n",
    "s = pd.Series([10, 25, 50, 40, 5])\n",
    "\n",
    "#untuk mendapatkan nilai maksimum\n",
    "maks = s.max() #NO. 21\n",
    "\n",
    "#untuk menghitung nilai rata-rata dari series\n",
    "rata = s.mean() #No. 22\n",
    "\n",
    "#mengembalikan nilai tengah berdasarkan urutan terkecil\n",
    "median = s.median() #No. 23\n",
    "\n",
    "#untuk mendaptkan nilai minimum \n",
    "min = s.min() #NO. 24\n",
    "\n",
    "print(\"Series:\")\n",
    "print(s)\n",
    "\n",
    "print(\"\\nJawaban No.21\")\n",
    "print(\"Nilai Maksimum:\", maks)\n",
    "\n",
    "print(\"\\nJawaban No.22\")\n",
    "print(\"Nilai Rata-Rata:\", rata)\n",
    "\n",
    "print(\"\\nJawaban No.23\")\n",
    "print(\"Nilai Tengah Berdasarkan Nilai Terkecil:\", median)\n",
    "\n",
    "print(\"\\nJawaban No.24\")\n",
    "print(\"Nilai Minimum:\", min)\n"
   ]
  },
  {
   "cell_type": "markdown",
   "metadata": {},
   "source": [
    "25. mod() Mengembalikan hasil sisa bagi dari data series pertama\n",
    "dengan data series kedua\n",
    "26. mul() Mengembalikan hasil kali data series pertama dengan data\n",
    "series kedua"
   ]
  },
  {
   "cell_type": "code",
   "execution_count": 8,
   "metadata": {},
   "outputs": [
    {
     "name": "stdout",
     "output_type": "stream",
     "text": [
      "Series Pertama:\n",
      "0    10\n",
      "1    20\n",
      "2    30\n",
      "3    40\n",
      "4    50\n",
      "dtype: int64\n",
      "\n",
      "Series Kedua:\n",
      "0    3\n",
      "1    7\n",
      "2    4\n",
      "3    6\n",
      "4    9\n",
      "dtype: int64\n",
      "\n",
      "Jawaban No. 25\n",
      "Hasil Sisa Bagi (modulo):\n",
      "0    1\n",
      "1    6\n",
      "2    2\n",
      "3    4\n",
      "4    5\n",
      "dtype: int64\n",
      "\n",
      "Jawaban No. 26\n",
      "Hasil Kali Kedua Series:\n",
      "0     30\n",
      "1    140\n",
      "2    120\n",
      "3    240\n",
      "4    450\n",
      "dtype: int64\n"
     ]
    }
   ],
   "source": [
    "import pandas as pd\n",
    "\n",
    "s1 = pd.Series([10, 20, 30, 40, 50])\n",
    "s2 = pd.Series([3, 7, 4, 6, 9])\n",
    "\n",
    "#menghitung sisa hasil bagi\n",
    "hasil_mod = s1.mod(s2)\n",
    "\n",
    "#menghitung hasil perkalian dua series\n",
    "mull = s1.mul(s2)\n",
    "\n",
    "print(\"Series Pertama:\")\n",
    "print(s1)\n",
    "\n",
    "print(\"\\nSeries Kedua:\")\n",
    "print(s2)\n",
    "\n",
    "print(\"\\nJawaban No. 25\")\n",
    "print(\"Hasil Sisa Bagi (modulo):\")\n",
    "print(hasil_mod)\n",
    "\n",
    "print(\"\\nJawaban No. 26\")\n",
    "print(\"Hasil Kali Kedua Series:\")\n",
    "print(mull)\n"
   ]
  },
  {
   "cell_type": "markdown",
   "metadata": {},
   "source": [
    "27. notna()\n",
    "Mengembalikan nilai Boolean tidak adanya nilai data series\n",
    "yang memiliki missing value. Method memberikan nilai true\n",
    "jika nilai data series bukan null."
   ]
  },
  {
   "cell_type": "code",
   "execution_count": 12,
   "metadata": {},
   "outputs": [
    {
     "name": "stdout",
     "output_type": "stream",
     "text": [
      "a    70.0\n",
      "b     NaN\n",
      "c    55.0\n",
      "d     NaN\n",
      "e    90.0\n",
      "dtype: float64\n",
      "\n",
      "Jawaban No.27\n",
      "Mengambalikan Data dalam Nilai Boolean:\n",
      "a     True\n",
      "b    False\n",
      "c     True\n",
      "d    False\n",
      "e     True\n",
      "dtype: bool\n"
     ]
    }
   ],
   "source": [
    "import pandas as pd\n",
    "\n",
    "s = pd.Series([70, np.nan, 55, None, 90], index=['a', 'b', 'c', 'd', 'e'])\n",
    "\n",
    "#mengecek apakah terdapat missing value pada data\n",
    "nott = s.notna()\n",
    "\n",
    "print(s)\n",
    "print(\"\\nJawaban No.27\")\n",
    "print(\"Mengambalikan Data dalam Nilai Boolean:\")\n",
    "print(nott)"
   ]
  },
  {
   "cell_type": "markdown",
   "metadata": {},
   "source": [
    "28. nunique() Mengembalikan banyaknya bilangan unik"
   ]
  },
  {
   "cell_type": "code",
   "execution_count": null,
   "metadata": {},
   "outputs": [
    {
     "name": "stdout",
     "output_type": "stream",
     "text": [
      "Data Series: \n",
      "0     10\n",
      "1      5\n",
      "2      5\n",
      "3     10\n",
      "4      9\n",
      "5      2\n",
      "6      4\n",
      "7      6\n",
      "8      4\n",
      "9      2\n",
      "10     3\n",
      "11     4\n",
      "12     4\n",
      "13     2\n",
      "dtype: int64\n",
      "\n",
      "Jawaban No. 28\n",
      "Banyaknya bilangan unik: 7\n"
     ]
    }
   ],
   "source": [
    "import pandas as pd\n",
    "\n",
    "s1 = pd.Series([10,5,5,10,9,2,4,6,4,2,3,4,4,2,])\n",
    "\n",
    "#menghibung banyaknya bilangan unik dari data series\n",
    "niq = s1.nunique()\n",
    "\n",
    "print(\"Data Series: \")\n",
    "print(s1)\n",
    "print(\"\\nJawaban No. 28\")\n",
    "print(\"Banyaknya bilangan unik:\", niq)"
   ]
  },
  {
   "cell_type": "markdown",
   "metadata": {},
   "source": [
    "29. pop(item=’index’) Mengembalikan elemen pada index ke ‘index’ kemudian\n",
    "mengeluarkan elemen ke ‘index’ dari data series"
   ]
  },
  {
   "cell_type": "code",
   "execution_count": 21,
   "metadata": {},
   "outputs": [
    {
     "name": "stdout",
     "output_type": "stream",
     "text": [
      "series setelah pop: \n",
      "a    70\n",
      "b    20\n",
      "c    55\n",
      "e    90\n",
      "dtype: int64\n",
      "\n",
      "Jawaban No. 29\n",
      "Data Series yang telah dihapus: \n",
      "99\n"
     ]
    }
   ],
   "source": [
    "import pandas as pd\n",
    "\n",
    "s = pd.Series([70, 20, 55, 99, 90], index=['a', 'b', 'c', 'd', 'e'])\n",
    "\n",
    "#menghapus data dari dalam series dengan index 'd'\n",
    "hapus = s.pop('d')\n",
    "\n",
    "print(\"series setelah pop: \")\n",
    "print(s)\n",
    "print(\"\\nJawaban No. 29\")\n",
    "print(\"Data Series yang telah dihapus: \")\n",
    "print(hapus)"
   ]
  }
 ],
 "metadata": {
  "kernelspec": {
   "display_name": ".venv",
   "language": "python",
   "name": "python3"
  },
  "language_info": {
   "codemirror_mode": {
    "name": "ipython",
    "version": 3
   },
   "file_extension": ".py",
   "mimetype": "text/x-python",
   "name": "python",
   "nbconvert_exporter": "python",
   "pygments_lexer": "ipython3",
   "version": "3.11.9"
  }
 },
 "nbformat": 4,
 "nbformat_minor": 2
}
